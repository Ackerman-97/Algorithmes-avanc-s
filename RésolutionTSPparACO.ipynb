{
  "nbformat": 4,
  "nbformat_minor": 0,
  "metadata": {
    "colab": {
      "name": "Untitled0.ipynb",
      "provenance": [],
      "authorship_tag": "ABX9TyO++38Bhxezpw/qsua1vpnb",
      "include_colab_link": true
    },
    "kernelspec": {
      "name": "python3",
      "display_name": "Python 3"
    },
    "language_info": {
      "name": "python"
    }
  },
  "cells": [
    {
      "cell_type": "markdown",
      "metadata": {
        "id": "view-in-github",
        "colab_type": "text"
      },
      "source": [
        "<a href=\"https://colab.research.google.com/github/Ackerman-97/Algorithmes-avanc-s/blob/main/R%C3%A9solutionTSPparACO.ipynb\" target=\"_parent\"><img src=\"https://colab.research.google.com/assets/colab-badge.svg\" alt=\"Open In Colab\"/></a>"
      ]
    },
    {
      "cell_type": "code",
      "metadata": {
        "id": "e0WD8UKiA96e"
      },
      "source": [
        "import random\n",
        "\n",
        "class Graph(object):\n",
        "    def __init__(self, cost_matrix: list, rank: int):\n",
        "        self.matrix = cost_matrix\n",
        "        self.rank = rank\n",
        "        self.pheromone = [[1 / (rank * rank) for j in range(rank)] for i in range(rank)]\n",
        "\n",
        "\n",
        "class ACO(object):\n",
        "    def __init__(self, ant_count: int, generations: int, alpha: float, beta: float, rho: float, q: int, strategy: int):\n",
        "        #param alpha: coefficient d’importance des phéromones\n",
        "        #param beta: coefficient d’importance de la visibilité\n",
        "        #param rho: coefficient d’évaporation des phéromones\n",
        "        #param q: quantité de phéromones disponibles pour chaque fourmis\n",
        "        #param strategy: e taux de phéromones sur l’arc i, j à l’instant t. 0 - ant-cycle, 1 - ant-quality, 2 - ant-density\n",
        "        self.Q = q\n",
        "        self.rho = rho\n",
        "        self.beta = beta\n",
        "        self.alpha = alpha\n",
        "        self.ant_count = ant_count\n",
        "        self.generations = generations\n",
        "        self.update_strategy = strategy\n",
        "\n",
        "    def _update_pheromone(self, graph: Graph, ants: list):\n",
        "        for i, row in enumerate(graph.pheromone):\n",
        "            for j, col in enumerate(row):\n",
        "                graph.pheromone[i][j] *= self.rho\n",
        "                for ant in ants:\n",
        "                    graph.pheromone[i][j] += ant.pheromone_delta[i][j]\n",
        "\n",
        "    def solve(self, graph: Graph):\n",
        "        best_cost = float('inf')\n",
        "        best_solution = []\n",
        "        for gen in range(self.generations):\n",
        "            ants = [_Ant(self, graph) for i in range(self.ant_count)]\n",
        "            for ant in ants:\n",
        "                for i in range(graph.rank - 1):\n",
        "                    ant._select_next()\n",
        "                ant.total_cost += graph.matrix[ant.tabu[-1]][ant.tabu[0]]\n",
        "                if ant.total_cost < best_cost:\n",
        "                    best_cost = ant.total_cost\n",
        "                    best_solution = [] + ant.tabu\n",
        "               \n",
        "                ant._update_pheromone_delta()\n",
        "            self._update_pheromone(graph, ants)\n",
        "        return best_solution, best_cost\n",
        "\n",
        "\n",
        "class _Ant(object):\n",
        "    def __init__(self, aco: ACO, graph: Graph):\n",
        "        self.colony = aco\n",
        "        self.graph = graph\n",
        "        self.total_cost = 0.0\n",
        "        self.tabu = []  # tabu list\n",
        "        self.pheromone_delta = []  #  la quantité de phéromone déposée par les fourmis dans  intervalle de temps sur l’arc (i, j).\n",
        "        self.allowed = [i for i in range(graph.rank)]  # nœuds autorisés pour la sélection suivante\n",
        "        self.eta = [[0 if i == j else 1 / graph.matrix[i][j] for j in range(graph.rank)] for i in range(graph.rank)]  \n",
        "        start = random.randint(0, graph.rank - 1)  # démarrer à partir de n'importe quel nœud\n",
        "        self.tabu.append(start)\n",
        "        self.current = start\n",
        "        self.allowed.remove(start)\n",
        "\n",
        "    def _select_next(self):\n",
        "        denominator = 0\n",
        "        for i in self.allowed:\n",
        "            denominator += self.graph.pheromone[self.current][i] ** self.colony.alpha * self.eta[self.current][i] ** self.colony.beta\n",
        "        probabilities = [0 for i in range(self.graph.rank)]  # probabilités de passer à un nœud à l'étape suivante\n",
        "        for i in range(self.graph.rank):\n",
        "            try:\n",
        "                self.allowed.index(i)  #tester si la liste autorisée contient i\n",
        "                probabilities[i] = self.graph.pheromone[self.current][i] ** self.colony.alpha * \\\n",
        "                    self.eta[self.current][i] ** self.colony.beta / denominator\n",
        "            except ValueError:\n",
        "                pass  # ne rien faire\n",
        "        # sélectionner le nœud suivant par probabilité\n",
        "        selected = 0\n",
        "        rand = random.random()\n",
        "        for i, probability in enumerate(probabilities):\n",
        "            rand -= probability\n",
        "            if rand <= 0:\n",
        "                selected = i\n",
        "                break\n",
        "        self.allowed.remove(selected)\n",
        "        self.tabu.append(selected)\n",
        "        self.total_cost += self.graph.matrix[self.current][selected]\n",
        "        self.current = selected\n",
        "\n",
        "    def _update_pheromone_delta(self):\n",
        "        self.pheromone_delta = [[0 for j in range(self.graph.rank)] for i in range(self.graph.rank)]\n",
        "        for _ in range(1, len(self.tabu)):\n",
        "            i = self.tabu[_ - 1]\n",
        "            j = self.tabu[_]\n",
        "            if self.colony.update_strategy == 1:  # ant-quality system\n",
        "                self.pheromone_delta[i][j] = self.colony.Q\n",
        "            elif self.colony.update_strategy == 2:  # ant-density system\n",
        "                self.pheromone_delta[i][j] = self.colony.Q / self.graph.matrix[i][j]\n",
        "            else:  # ant-cycle system\n",
        "                self.pheromone_delta[i][j] = self.colony.Q / self.total_cost"
      ],
      "execution_count": 8,
      "outputs": []
    },
    {
      "cell_type": "code",
      "metadata": {
        "id": "XENUduX_A9_d"
      },
      "source": [
        "import operator\n",
        "import matplotlib.pyplot as plt\n",
        "\n",
        "\n",
        "def plot(points, path: list):\n",
        "    x = []\n",
        "    y = []\n",
        "    for point in points:\n",
        "        x.append(point[0])\n",
        "        y.append(point[1])\n",
        "    \n",
        "\n",
        "    y = list(map(operator.sub, [max(y) for i in range(len(points))], y))\n",
        "    plt.plot(x, y, 'co')\n",
        "\n",
        "    for _ in range(1, len(path)):\n",
        "        i = path[_ - 1]\n",
        "        j = path[_]\n",
        "        plt.arrow(x[i], y[i], x[j] - x[i], y[j] - y[i], color='r', length_includes_head=True)\n",
        "\n",
        "\n",
        "    plt.xlim(0, max(x) * 1.1)\n",
        "    plt.ylim(0, max(y) * 1.1)\n",
        "    plt.show()"
      ],
      "execution_count": 9,
      "outputs": []
    },
    {
      "cell_type": "code",
      "metadata": {
        "colab": {
          "base_uri": "https://localhost:8080/",
          "height": 418
        },
        "id": "1T40Tv8VA-Dh",
        "outputId": "b9b259b7-c61a-44ca-f488-bea45cb3b4b1"
      },
      "source": [
        "import math\n",
        "import networkx as nx\n",
        "import numpy as np\n",
        "\n",
        "def create_distance_matrix(n):\n",
        "    a = np.random.randint(1, high=100, size=(n, n))\n",
        "    print(a)\n",
        "    return a\n",
        "\n",
        "def create_graph(matrix, n):\n",
        "    G = nx.Graph()\n",
        "    for i in range(n):\n",
        "        for j in range(n):\n",
        "            if i == j:\n",
        "                continue\n",
        "            G.add_edge(i, j)\n",
        "            G[i][j]['weight'] = matrix[i][j]\n",
        "    nx.draw(G, with_labels=True)\n",
        "    plt.clf()\n",
        "\n",
        "def distance(city1: dict, city2: dict):\n",
        "    return math.sqrt((city1['x'] - city2['x']) ** 2 + (city1['y'] - city2['y']) ** 2)\n",
        "\n",
        "\n",
        "def main():\n",
        "    i = 8\n",
        "    n = 8\n",
        "    matrix = create_distance_matrix(i)\n",
        "    create_graph(matrix,i)\n",
        "    aco = ACO(10, 100, 1.0, 10.0, 0.5, 10, 2)\n",
        "    graph = Graph(matrix, n)\n",
        "    path, cost = aco.solve(graph)\n",
        "    print('cost: {}, path: {}'.format(cost, path))\n",
        "    plot( matrix,path)\n",
        "\n",
        "if __name__ == '__main__':\n",
        "    main()"
      ],
      "execution_count": 10,
      "outputs": [
        {
          "output_type": "stream",
          "text": [
            "[[ 1 26 14 72 70 10  5 19]\n",
            " [12 63 80 57 73 15 40 54]\n",
            " [77 84 53 18 76 16 54 84]\n",
            " [18 18 19 39 21 47 72 79]\n",
            " [56 43 83 45  5 10 72 95]\n",
            " [12 96  5 71 20 49 17 42]\n",
            " [ 4 44 48 46 98 66 28 30]\n",
            " [18  2 82 32 88 50 22 89]]\n",
            "cost: 152.0, path: [0, 6, 7, 1, 5, 2, 3, 4]\n"
          ],
          "name": "stdout"
        },
        {
          "output_type": "display_data",
          "data": {
            "image/png": "[encoded data removed]",
            "text/plain": [
              "<Figure size 432x288 with 1 Axes>"
            ]
          },
          "metadata": {
            "tags": []
          }
        }
      ]
    }
  ]
}